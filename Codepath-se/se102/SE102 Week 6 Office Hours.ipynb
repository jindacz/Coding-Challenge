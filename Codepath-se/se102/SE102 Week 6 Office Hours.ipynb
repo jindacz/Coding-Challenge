{
 "cells": [
  {
   "cell_type": "markdown",
   "metadata": {},
   "source": [
    "## Problem: Sort a stack using a temporary stack"
   ]
  },
  {
   "cell_type": "markdown",
   "metadata": {},
   "source": [
    "1. Create an additional temporary Stack.\n",
    "2. While input stack is NOT empty do:\n",
    "3. Pop an element from input stack called temp.\n",
    "4. While temporary stack is NOT empty and top of temporary stack is greater than temp:\n",
    "5. Pop from temporary stack and push it to the input stack.\n",
    "6. Push temp in temporary stack.\n",
    "7. In the end, the sorted numbers are in the temporary Stack."
   ]
  },
  {
   "cell_type": "code",
   "execution_count": 2,
   "metadata": {},
   "outputs": [],
   "source": [
    "def sortStack(self, input):\n",
    "    # 1. Create an additional temporary Stack.\n",
    "    tempStack = []\n",
    "\n",
    "    # 2. While input stack is NOT empty do:\n",
    "    while len(input) != 0:\n",
    "        # 3. Pop an element from input stack called temp.\n",
    "        temp = input.pop()\n",
    "\n",
    "        # 4. While temporary stack is NOT empty and top of temporary stack is greater than temp:\n",
    "        while len(tempStack) != 0 and tempStack[len(tempStack)-1] > temp:\n",
    "            # 5. Pop from temporary stack and push it to the input stack.\n",
    "            input.append(tempStack[len(tempStack)-1])\n",
    "            tempStack.pop()\n",
    "\n",
    "        # 6. Push temp in temporary stack.\n",
    "        tempStack.append(temp)\n",
    "\n",
    "    # 7. In the end, the sorted numbers are in the temporary Stack.\n",
    "    return tempStack"
   ]
  },
  {
   "cell_type": "markdown",
   "metadata": {},
   "source": [
    "**Time Complexity = O(N^2)**"
   ]
  },
  {
   "cell_type": "markdown",
   "metadata": {},
   "source": [
    "## Problem: Reverse first k elements of a queue"
   ]
  },
  {
   "cell_type": "markdown",
   "metadata": {},
   "source": [
    "**Approach**\n",
    "<br>\n",
    "1. Store the first K elements of the queue into a stack.\n",
    "2. Push all elements of the stack into the queue.\n",
    "3. Pop and push continuously N-K elements in the queue."
   ]
  },
  {
   "cell_type": "markdown",
   "metadata": {},
   "source": [
    "**Example Walkthrough**\n",
    "<br>queue is { 1, 2, 3, 4 } and K be 2\n",
    "\n",
    "1. We will create an empty stack {  } and push K elements from the front of the queue to stack.\n",
    "\n",
    "2. Pop 1 from the queue and push in the stack.\n",
    "Stack: { 1 }.\n",
    "Queue: { 2, 3, 4 }\n",
    "3. Pop 2 from the queue and push in the stack.\n",
    "Stack: { 1, 2 }\n",
    "Queue: { 3, 4 }\n",
    "4. Now, we push stack elements in the queue\n",
    "\n",
    "5. Pop 2 from the stack and push in the queue.\n",
    "Stack: { 1 }\n",
    "Queue: { 3, 4, 2 }\n",
    "6. Pop 1 from the stack and push in the queue.\n",
    "Stack: {  }\n",
    "Queue: { 3, 4, 2, 1 }\n",
    "7. Now push and pop 2(N - K) elements from the queue.\n",
    "\n",
    "8. Push and pop 3 in the queue.\n",
    "Queue: { 4, 2, 1, 3 }\n",
    "9. Push and pop4 in the queue.\n",
    "Queue: { 2, 1, 3, 4 }\n",
    "10. Thus, the final output will be { 2, 1, 3, 4 }."
   ]
  },
  {
   "cell_type": "markdown",
   "metadata": {},
   "source": [
    "## Problem : Reveal Cards In Increasing Order"
   ]
  },
  {
   "cell_type": "markdown",
   "metadata": {},
   "source": [
    "1. You are given an integer array deck. There is a deck of cards where every card has a unique integer. The integer on the ith card is deck[i].\n",
    "\n",
    "2. You can order the deck in any order you want. Initially, all the cards start face down (unrevealed) in one deck.\n",
    "\n",
    "3. You will do the following steps repeatedly until all cards are revealed:\n",
    "\n",
    "4. Take the top card of the deck, reveal it, and take it out of the deck.\n",
    "5. If there are still cards in the deck then put the next top card of the deck at the bottom of the deck.\n",
    "6. If there are still unrevealed cards, go back to step 1. Otherwise, stop.\n",
    "7. Return an ordering of the deck that would reveal the cards in increasing order."
   ]
  },
  {
   "cell_type": "markdown",
   "metadata": {},
   "source": [
    "### Example Walkthrough\n",
    "\n",
    "<br>Input: deck = [17,13,11,2,3,5,7]\n",
    "<br> Output: [2,13,3,11,5,17,7]\n",
    "<br>**Explanation:** \n",
    "<br> \n",
    "1. We get the deck in the order [17,13,11,2,3,5,7] (this order does not matter), and reorder it.\n",
    "2. After reordering, the deck starts as [2,13,3,11,5,17,7], where 2 is the top of the deck.\n",
    "3. We reveal 2, and move 13 to the bottom.  The deck is now [3,11,5,17,7,13].\n",
    "4. We reveal 3, and move 11 to the bottom.  The deck is now [5,17,7,13,11].\n",
    "5. We reveal 5, and move 17 to the bottom.  The deck is now [7,13,11,17].\n",
    "6. We reveal 7, and move 13 to the bottom.  The deck is now [11,17,13].\n",
    "7. We reveal 11, and move 17 to the bottom.  The deck is now [13,17].\n",
    "8. We reveal 13, and move 17 to the bottom.  The deck is now [17].\n",
    "9. We reveal 17.\n",
    "***Since all the cards revealed are in increasing order, the answer is correct.***"
   ]
  },
  {
   "cell_type": "code",
   "execution_count": 3,
   "metadata": {},
   "outputs": [
    {
     "data": {
      "text/plain": [
       "[2, 13, 3, 11, 5, 17, 7]"
      ]
     },
     "execution_count": 3,
     "metadata": {},
     "output_type": "execute_result"
    }
   ],
   "source": [
    "from collections import deque\n",
    "def deckRevealedIncreasing(deck):\n",
    "    N = len(deck)\n",
    "    index = deque(range(N))\n",
    "    ans = [None] * N\n",
    "\n",
    "    for card in sorted(deck):\n",
    "        ans[index.popleft()] = card\n",
    "        if index:\n",
    "            index.append(index.popleft())\n",
    "\n",
    "    return ans\n",
    "\n",
    "deckRevealedIncreasing([17,13,11,2,3,5,7])"
   ]
  },
  {
   "cell_type": "markdown",
   "metadata": {},
   "source": [
    "https://pythontutor.com/composingprograms.html#code=from%20collections%20import%20deque%0Adef%20deckRevealedIncreasing%28deck%29%3A%0A%20%20%20%20N%20%3D%20len%28deck%29%0A%20%20%20%20index%20%3D%20deque%28range%28N%29%29%0A%20%20%20%20ans%20%3D%20%5BNone%5D%20*%20N%0A%0A%20%20%20%20for%20card%20in%20sorted%28deck%29%3A%0A%20%20%20%20%20%20%20%20ans%5Bindex.popleft%28%29%5D%20%3D%20card%0A%20%20%20%20%20%20%20%20if%20index%3A%0A%20%20%20%20%20%20%20%20%20%20%20%20index.append%28index.popleft%28%29%29%0A%0A%20%20%20%20return%20ans%0A%0AdeckRevealedIncreasing%28%5B17,13,11,2,3,5,7%5D%29&cumulative=true&curInstr=5&mode=display&origin=composingprograms.js&py=3&rawInputLstJSON=%5B%5D"
   ]
  }
 ],
 "metadata": {
  "kernelspec": {
   "display_name": "Python 3.10.0 64-bit",
   "language": "python",
   "name": "python3"
  },
  "language_info": {
   "codemirror_mode": {
    "name": "ipython",
    "version": 3
   },
   "file_extension": ".py",
   "mimetype": "text/x-python",
   "name": "python",
   "nbconvert_exporter": "python",
   "pygments_lexer": "ipython3",
   "version": "3.10.0"
  },
  "vscode": {
   "interpreter": {
    "hash": "aee8b7b246df8f9039afb4144a1f6fd8d2ca17a180786b69acc140d282b71a49"
   }
  }
 },
 "nbformat": 4,
 "nbformat_minor": 2
}

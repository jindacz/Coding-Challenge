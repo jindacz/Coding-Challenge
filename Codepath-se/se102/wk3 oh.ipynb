{
 "cells": [
  {
   "cell_type": "markdown",
   "metadata": {},
   "source": [
    "## Problem 1. Check if Linked List is Palindrome or not"
   ]
  },
  {
   "cell_type": "markdown",
   "metadata": {},
   "source": [
    "1. Reach the end of the linked list by recursion. <br> 2. Compare if the last node has the same value as the first node. <br> 3. Second previous node has the same value as the second node. <br> 4. Using Stack and pointer "
   ]
  },
  {
   "cell_type": "code",
   "execution_count": 4,
   "metadata": {},
   "outputs": [],
   "source": [
    "# A Linked List Node\n",
    "class Node:\n",
    "    def __init__(self, data, next=None):\n",
    "        self.data = data\n",
    "        self.next = next"
   ]
  },
  {
   "cell_type": "code",
   "execution_count": 1,
   "metadata": {},
   "outputs": [],
   "source": [
    "# Recursive function to check if the linked list is a palindrome or not\n",
    "def checkPalindrome(left, right):\n",
    " \n",
    "    # base case\n",
    "    if right is None:\n",
    "        return True, left\n",
    " \n",
    "    val, left = checkPalindrome(left, right.next)\n",
    " \n",
    "    result = val and (left.data == right.data)\n",
    "    left = left.next\n",
    " \n",
    "    return result, left"
   ]
  },
  {
   "cell_type": "code",
   "execution_count": 2,
   "metadata": {},
   "outputs": [],
   "source": [
    "# Function to check if the linked list is a palindrome or not\n",
    "def checkPalin(head):\n",
    "    return checkPalindrome(head, head)[0]"
   ]
  },
  {
   "cell_type": "code",
   "execution_count": 5,
   "metadata": {},
   "outputs": [
    {
     "name": "stdout",
     "output_type": "stream",
     "text": [
      "The linked list is a palindrome\n"
     ]
    }
   ],
   "source": [
    "# Checking the result\n",
    "if __name__ == '__main__':\n",
    " \n",
    "    # input keys\n",
    "    keys = [1, 3, 5, 3, 1]\n",
    " \n",
    "    head = None\n",
    "    for i in reversed(range(len(keys))):\n",
    "        head = Node(keys[i], head)\n",
    " \n",
    "    if checkPalin(head):\n",
    "        print('The linked list is a palindrome')\n",
    "    else:\n",
    "        print('The linked list is not a palindrome')"
   ]
  },
  {
   "cell_type": "markdown",
   "metadata": {},
   "source": [
    "#### Time complexity is O(n). <br> The second solution startegy: <br> 1. Divide the list into two equal parts. <br> 2. Reverse the second half. <br> 3. Check if the first and second half is similar. If the linked list contains an odd number of nodes, then ignore the middle element."
   ]
  },
  {
   "cell_type": "markdown",
   "metadata": {},
   "source": [
    "## Problem 2. Reverse a Linked List"
   ]
  },
  {
   "cell_type": "markdown",
   "metadata": {},
   "source": [
    "1. The idea is to use three-pointers: next, current, previous and move them down the list. <br> 2. current is the main pointer running down the list. <br> 3. next leads it. <br> 4. previous trails it. <br> 5. For each step, reverse the current pointer and then advance all three to get the next node."
   ]
  },
  {
   "cell_type": "code",
   "execution_count": 8,
   "metadata": {},
   "outputs": [],
   "source": [
    "# A Linked List Node\n",
    "class Node:\n",
    "    def __init__(self, data=None, next=None):\n",
    "        self.data = data\n",
    "        self.next = next"
   ]
  },
  {
   "cell_type": "code",
   "execution_count": 13,
   "metadata": {},
   "outputs": [],
   "source": [
    "# Function to print a given linked list\n",
    "def printList(head):\n",
    " \n",
    "    ptr = head\n",
    "    while ptr:\n",
    "        print(ptr.data, end=' —> ')\n",
    "        ptr = ptr.next\n",
    "    print('None')"
   ]
  },
  {
   "cell_type": "code",
   "execution_count": 14,
   "metadata": {},
   "outputs": [],
   "source": [
    "# Reverses a given linked list by changing its `.next` fields and\n",
    "# its head.\n",
    "def reverse(head):\n",
    " \n",
    "    previous = None\n",
    "    current = head\n",
    " \n",
    "    # traverse the list\n",
    "    while current:\n",
    " \n",
    "        # tricky: note the next node\n",
    "        next = current.next\n",
    " \n",
    "        current.next = previous        # fix the current node\n",
    " \n",
    "        previous = current\n",
    "        current = next\n",
    "        # fix the head to point to the new front\n",
    "    return previous"
   ]
  },
  {
   "cell_type": "code",
   "execution_count": 15,
   "metadata": {},
   "outputs": [
    {
     "name": "stdout",
     "output_type": "stream",
     "text": [
      "7 —> 6 —> 5 —> 4 —> 3 —> 2 —> 1 —> None\n"
     ]
    }
   ],
   "source": [
    "if __name__ == '__main__':\n",
    " \n",
    "    head = None\n",
    "    for i in reversed(range(7)):\n",
    "        head = Node(i + 1, head)\n",
    " \n",
    "    head = reverse(head)\n",
    "    printList(head)"
   ]
  },
  {
   "cell_type": "markdown",
   "metadata": {},
   "source": [
    "#### The time complexity of the above solution is O(n), where n is the total number of nodes in the linked list, and doesn’t require any extra space."
   ]
  },
  {
   "cell_type": "markdown",
   "metadata": {},
   "source": [
    "## Problem 3. Clone Linked List with Random Pointer"
   ]
  },
  {
   "cell_type": "markdown",
   "metadata": {},
   "source": [
    "1. Maintain a hash table for storing the mappings from a linked list node to its clone. <br> 2. We create a new node with the same data for each node in the original linked list and recursively set its next pointers. <br> 3. We also create a mapping from the original node to the duplicate node in the hash table. <br> 4. traverse the original linked list again and update the duplicate nodes’ random pointers using the hash table."
   ]
  },
  {
   "cell_type": "code",
   "execution_count": 14,
   "metadata": {},
   "outputs": [],
   "source": [
    "# A linked list node with a random pointer\n",
    "class Node:\n",
    "    # Constructor\n",
    "    def __init__(self, data, next=None, random=None):\n",
    "        self.data = data\n",
    "        self.next = next\n",
    "        self.random = random"
   ]
  },
  {
   "cell_type": "code",
   "execution_count": 15,
   "metadata": {},
   "outputs": [],
   "source": [
    "# Recursive function to print a linked list\n",
    "def traverse(head):\n",
    " \n",
    "    if head is None:\n",
    "        print('null')\n",
    "        return\n",
    " \n",
    "    # print current node data and random pointer data\n",
    "    print(head.data, end='')\n",
    "    print(f'({head.random.data})' if head.random else '(X)', end=' —> ')\n",
    " \n",
    "    # recur for the next node\n",
    "    traverse(head.next)"
   ]
  },
  {
   "cell_type": "code",
   "execution_count": 16,
   "metadata": {},
   "outputs": [],
   "source": [
    "# Recursive function to copy random pointers from the original linked list\n",
    "# into the cloned linked list using the dictionary\n",
    "def updateRandomPointers(head, d):\n",
    " \n",
    "    # base case\n",
    "    if d.get(head) is None:\n",
    "        return\n",
    " \n",
    "    # update the random pointer of the cloned node\n",
    "    d.get(head).random = d.get(head.random)\n",
    " \n",
    "    # recur for the next node\n",
    "    updateRandomPointers(head.next, d)\n",
    " "
   ]
  },
  {
   "cell_type": "code",
   "execution_count": 17,
   "metadata": {},
   "outputs": [],
   "source": [
    "# Recursive function to clone the data and next pointer for each node\n",
    "# of the linked list into a given dictionary\n",
    "def cloneLinkedList(head, d):\n",
    " \n",
    "    # base case\n",
    "    if head is None:\n",
    "        return None\n",
    " \n",
    "    # clone all fields of the head node except the random pointer\n",
    " \n",
    "    # create a new node with the same data as the head node\n",
    "    d[head] = Node(head.data)\n",
    " \n",
    "    # clone the next node\n",
    "    d.get(head).next = cloneLinkedList(head.next, d)\n",
    " \n",
    "    # return cloned head node\n",
    "    return d.get(head)"
   ]
  },
  {
   "cell_type": "code",
   "execution_count": 18,
   "metadata": {},
   "outputs": [],
   "source": [
    "# Function to clone a linked list having random pointers\n",
    "def cloneList(head):\n",
    " \n",
    "    # create a dictionary to store mappings from a node to its clone\n",
    "    d = {}\n",
    " \n",
    "    # clone data and next pointer for each node of the original\n",
    "    # linked list and put references into the dictionary\n",
    "    cloneLinkedList(head, d)\n",
    " \n",
    "    # update random pointers from the original linked list in the dictionary\n",
    "    updateRandomPointers(head, d)\n",
    " \n",
    "    # return the cloned head node\n",
    "    return d[head]"
   ]
  },
  {
   "cell_type": "code",
   "execution_count": 19,
   "metadata": {},
   "outputs": [
    {
     "name": "stdout",
     "output_type": "stream",
     "text": [
      "Original Linked List:\n",
      "1(4) —> 2(X) —> 3(2) —> 4(X) —> 5(X) —> null\n",
      "\n",
      "Cloned Linked List:\n",
      "1(4) —> 2(X) —> 3(2) —> 4(X) —> 5(X) —> null\n"
     ]
    }
   ],
   "source": [
    "if __name__ == '__main__':\n",
    " \n",
    "    head = Node(1)\n",
    "    head.next = Node(2)\n",
    "    head.next.next = Node(3)\n",
    "    head.next.next.next = Node(4)\n",
    "    head.next.next.next.next = Node(5)\n",
    " \n",
    "    head.random = head.next.next.next\n",
    "    head.next.next.random = head.next\n",
    " \n",
    "    print('Original Linked List:')\n",
    "    traverse(head)\n",
    " \n",
    "    clone = cloneList(head)\n",
    " \n",
    "    print('\\nCloned Linked List:')\n",
    "    traverse(clone)"
   ]
  },
  {
   "cell_type": "markdown",
   "metadata": {},
   "source": [
    "#### The time complexity of the above solution is O(n)"
   ]
  }
 ],
 "metadata": {
  "kernelspec": {
   "display_name": "Python 3.10.0 64-bit",
   "language": "python",
   "name": "python3"
  },
  "language_info": {
   "codemirror_mode": {
    "name": "ipython",
    "version": 3
   },
   "file_extension": ".py",
   "mimetype": "text/x-python",
   "name": "python",
   "nbconvert_exporter": "python",
   "pygments_lexer": "ipython3",
   "version": "3.10.0"
  },
  "vscode": {
   "interpreter": {
    "hash": "aee8b7b246df8f9039afb4144a1f6fd8d2ca17a180786b69acc140d282b71a49"
   }
  }
 },
 "nbformat": 4,
 "nbformat_minor": 2
}

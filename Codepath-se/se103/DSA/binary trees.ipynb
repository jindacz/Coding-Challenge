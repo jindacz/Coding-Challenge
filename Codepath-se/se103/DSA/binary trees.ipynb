{
 "cells": [
  {
   "cell_type": "code",
   "execution_count": 2,
   "metadata": {},
   "outputs": [],
   "source": [
    "class Node(object):\n",
    "    def __init__(self, value):\n",
    "        self.value = value\n",
    "        self.left = None\n",
    "        self.right = None\n",
    "\n",
    "root = Node(1)\n",
    "root.left = Node(2)\n",
    "root.left.right = Node(5)\n",
    "root.left.left = Node(4)\n",
    "root.right = Node(3) "
   ]
  },
  {
   "cell_type": "code",
   "execution_count": 8,
   "metadata": {},
   "outputs": [
    {
     "name": "stdout",
     "output_type": "stream",
     "text": [
      "1  \n",
      "2  \n",
      "4  \n",
      "5  \n",
      "3  \n"
     ]
    }
   ],
   "source": [
    "def printPreorder(root):\n",
    "    if not root: \n",
    "        return None\n",
    "    print(root.value, \" \")\n",
    "    printPreorder(root.left)\n",
    "    printPreorder(root.right)\n",
    "printPreorder(root)"
   ]
  },
  {
   "cell_type": "code",
   "execution_count": 9,
   "metadata": {},
   "outputs": [
    {
     "name": "stdout",
     "output_type": "stream",
     "text": [
      "4  \n",
      "2  \n",
      "5  \n",
      "1  \n",
      "3  \n"
     ]
    }
   ],
   "source": [
    "def printInorder(root):\n",
    "    if not root: \n",
    "        return None\n",
    "    printInorder(root.left)\n",
    "    print(root.value, \" \")\n",
    "    printInorder(root.right)\n",
    "printInorder(root)"
   ]
  },
  {
   "cell_type": "code",
   "execution_count": 10,
   "metadata": {},
   "outputs": [
    {
     "name": "stdout",
     "output_type": "stream",
     "text": [
      "4  \n",
      "5  \n",
      "2  \n",
      "3  \n",
      "1  \n"
     ]
    }
   ],
   "source": [
    "def printPostorder(root):\n",
    "    if not root: \n",
    "        return None\n",
    "    printPostorder(root.left)\n",
    "    printPostorder(root.right)\n",
    "    print(root.value, \" \")\n",
    "printPostorder(root)"
   ]
  },
  {
   "cell_type": "code",
   "execution_count": 11,
   "metadata": {},
   "outputs": [
    {
     "name": "stdout",
     "output_type": "stream",
     "text": [
      "1  \n",
      "2  \n",
      "3  \n",
      "4  \n",
      "5  \n"
     ]
    }
   ],
   "source": [
    "def printBFS(root):\n",
    "    queue = []\n",
    "    if not root:\n",
    "        return None\n",
    "    queue.append(root)\n",
    "    while queue:\n",
    "        curr = queue.pop(0)\n",
    "        print(curr.value, \" \")\n",
    "        if curr.left:\n",
    "            queue.append(curr.left)\n",
    "        if curr.right:\n",
    "            queue.append(curr.right)\n",
    "printBFS(root)"
   ]
  },
  {
   "cell_type": "code",
   "execution_count": 7,
   "metadata": {},
   "outputs": [
    {
     "name": "stdout",
     "output_type": "stream",
     "text": [
      "1  \n",
      "2  \n",
      "3  \n",
      "4  \n",
      "5  \n"
     ]
    }
   ],
   "source": []
  }
 ],
 "metadata": {
  "kernelspec": {
   "display_name": "Python 3.10.0 64-bit",
   "language": "python",
   "name": "python3"
  },
  "language_info": {
   "codemirror_mode": {
    "name": "ipython",
    "version": 3
   },
   "file_extension": ".py",
   "mimetype": "text/x-python",
   "name": "python",
   "nbconvert_exporter": "python",
   "pygments_lexer": "ipython3",
   "version": "3.10.0"
  },
  "orig_nbformat": 4,
  "vscode": {
   "interpreter": {
    "hash": "aee8b7b246df8f9039afb4144a1f6fd8d2ca17a180786b69acc140d282b71a49"
   }
  }
 },
 "nbformat": 4,
 "nbformat_minor": 2
}

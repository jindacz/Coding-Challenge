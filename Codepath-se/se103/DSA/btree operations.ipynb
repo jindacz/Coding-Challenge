{
 "cells": [
  {
   "cell_type": "code",
   "execution_count": 1,
   "metadata": {},
   "outputs": [],
   "source": [
    "class Node(object):\n",
    "    def __init__(self, value):\n",
    "        self.value = value\n",
    "        self.left = None\n",
    "        self.right = None\n",
    "\n",
    "root = Node(1)\n",
    "root.left = Node(2)\n",
    "root.left.right = Node(5)\n",
    "root.left.left = Node(4)\n",
    "root.right = Node(3) "
   ]
  },
  {
   "cell_type": "code",
   "execution_count": 8,
   "metadata": {},
   "outputs": [
    {
     "name": "stdout",
     "output_type": "stream",
     "text": [
      "True\n",
      "False\n"
     ]
    }
   ],
   "source": [
    "def doesNodeExistInBST(root, searchValue):\n",
    "    if not root:\n",
    "        return False\n",
    "    elif root.value == searchValue:\n",
    "        return True\n",
    "    else:\n",
    "        if searchValue > root.value:\n",
    "            return doesNodeExistInBST(root.right, searchValue)\n",
    "        else:\n",
    "            return doesNodeExistInBST(root.left, searchValue)\n",
    "print(doesNodeExistInBST(root, 3))\n",
    "print(doesNodeExistInBST(root, 10))"
   ]
  },
  {
   "cell_type": "code",
   "execution_count": 10,
   "metadata": {},
   "outputs": [
    {
     "data": {
      "text/plain": [
       "2"
      ]
     },
     "execution_count": 10,
     "metadata": {},
     "output_type": "execute_result"
    }
   ],
   "source": [
    "def getBinaryTreeHeight(root):\n",
    "    if not root:\n",
    "        return -1\n",
    "    leftHeight = getBinaryTreeHeight(root.left)\n",
    "    rightHeight = getBinaryTreeHeight(root.right)\n",
    "    if leftHeight > rightHeight:\n",
    "        return leftHeight + 1\n",
    "    else:\n",
    "        return rightHeight + 1\n",
    "getBinaryTreeHeight(root)"
   ]
  }
 ],
 "metadata": {
  "kernelspec": {
   "display_name": "Python 3.10.0 64-bit",
   "language": "python",
   "name": "python3"
  },
  "language_info": {
   "codemirror_mode": {
    "name": "ipython",
    "version": 3
   },
   "file_extension": ".py",
   "mimetype": "text/x-python",
   "name": "python",
   "nbconvert_exporter": "python",
   "pygments_lexer": "ipython3",
   "version": "3.10.0"
  },
  "orig_nbformat": 4,
  "vscode": {
   "interpreter": {
    "hash": "aee8b7b246df8f9039afb4144a1f6fd8d2ca17a180786b69acc140d282b71a49"
   }
  }
 },
 "nbformat": 4,
 "nbformat_minor": 2
}

{
 "cells": [
  {
   "cell_type": "code",
   "execution_count": 4,
   "metadata": {},
   "outputs": [
    {
     "name": "stdout",
     "output_type": "stream",
     "text": [
      "['A', 'C', 'F', 'B', 'E', 'D']\n"
     ]
    }
   ],
   "source": [
    "# Assuming we have a directed graph represented with an adjacency list.\n",
    "graph = {'A': ['B', 'C'],  \n",
    " 'B': ['D', 'E'],  \n",
    " 'C': ['F'],  \n",
    " 'E': ['F']}\n",
    "\n",
    "def depth_first_search(graph, start):  \n",
    "    visited, stack = [], [start] \n",
    "    while stack:\n",
    "        vertex = stack.pop()\n",
    "        if vertex not in visited:\n",
    "            visited.append(vertex)\n",
    "            # If a node with no outgoing edges won't be \n",
    "            # included in the adjacency list, we need to check\n",
    "            if vertex in graph:\n",
    "                for neighbor in graph[vertex]:\n",
    "                    if neighbor not in visited:\n",
    "                        stack.append(neighbor)\n",
    "    return visited\n",
    "\n",
    "\n",
    "print(depth_first_search(graph, 'A'))\n"
   ]
  },
  {
   "cell_type": "code",
   "execution_count": 6,
   "metadata": {},
   "outputs": [
    {
     "data": {
      "text/plain": [
       "{'B', 'D', 'E', 'F'}"
      ]
     },
     "execution_count": 6,
     "metadata": {},
     "output_type": "execute_result"
    }
   ],
   "source": [
    "from collections import deque\n",
    "graph = {'A': ['B', 'C'],  \n",
    " 'B': ['D', 'E'],  \n",
    " 'C': ['F'],  \n",
    " 'E': ['F']}\n",
    " \n",
    "def breadth_first_search(graph, start):  \n",
    "    visited, queue = set(), deque(start)\n",
    "    while queue:\n",
    "        vertex = queue.popleft()\n",
    "        visited.add(vertex)\n",
    "        # If a node with no outgoing edges won't be \n",
    "        # included in the adjacency list, we need to check\n",
    "        if vertex in graph:\n",
    "           for neighbor in graph[vertex]:\n",
    "              if neighbor not in visited:\n",
    "                 queue.append(neighbor)\n",
    "    return visited\n",
    "breadth_first_search(graph, 'B')"
   ]
  },
  {
   "cell_type": "code",
   "execution_count": 8,
   "metadata": {},
   "outputs": [
    {
     "data": {
      "text/plain": [
       "['A', 'C', 'B', 'E', 'F', 'D']"
      ]
     },
     "execution_count": 8,
     "metadata": {},
     "output_type": "execute_result"
    }
   ],
   "source": [
    "# 拓扑排序只是对 DFS 的一种修改。拓扑排序仅涉及在整个图上运行 DFS，并将每个节点添加到节点的全局排序中，但仅在访问了节点的所有子节点之后。这确保了父节点将在其子节点之前排序，并在排序中尊重边的前向。\n",
    "\n",
    "\n",
    "def top_sort(graph):\n",
    "    sorted_nodes, visited = deque(), set()\n",
    "    for node in graph.keys():\n",
    "        if node not in visited:\n",
    "           dfs(graph, node, visited, sorted_nodes)\n",
    "    return list(sorted_nodes)\n",
    " \n",
    "def dfs(graph, start_node, visited, sorted_nodes):\n",
    "    visited.add(start_node)\n",
    "    if start_node in graph:\n",
    "        neighbors = graph[start_node]\n",
    "        for neighbor in neighbors:\n",
    "            if neighbor not in visited:\n",
    "                dfs(graph, neighbor, visited, sorted_nodes)\n",
    "    sorted_nodes.appendleft(start_node)\n",
    "\n",
    "top_sort(graph)"
   ]
  }
 ],
 "metadata": {
  "kernelspec": {
   "display_name": "Python 3.10.0 64-bit",
   "language": "python",
   "name": "python3"
  },
  "language_info": {
   "codemirror_mode": {
    "name": "ipython",
    "version": 3
   },
   "file_extension": ".py",
   "mimetype": "text/x-python",
   "name": "python",
   "nbconvert_exporter": "python",
   "pygments_lexer": "ipython3",
   "version": "3.10.0"
  },
  "orig_nbformat": 4,
  "vscode": {
   "interpreter": {
    "hash": "aee8b7b246df8f9039afb4144a1f6fd8d2ca17a180786b69acc140d282b71a49"
   }
  }
 },
 "nbformat": 4,
 "nbformat_minor": 2
}

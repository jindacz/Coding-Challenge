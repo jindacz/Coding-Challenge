{
 "cells": [
  {
   "cell_type": "code",
   "execution_count": 5,
   "metadata": {},
   "outputs": [],
   "source": [
    "def isPalindrome(input_str):\n",
    "    n = len(input_str)\n",
    "    if n == 0:\n",
    "        return True\n",
    "    return isPalindromeRecursive(input_str, 0, n - 1)\n",
    "\n",
    "\n",
    "def isPalindromeRecursive(input_str, start, end):\n",
    "    # skip non-alphanumeric/garbage values\n",
    "    if start == end:\n",
    "        return True\n",
    "\n",
    "    while not input_str[start].isalpha() and not input_str[start].isdigit():\n",
    "        start += 1\n",
    "    while not input_str[end].isalpha() and not input_str[end].isdigit():\n",
    "        end -= 1\n",
    "\n",
    "    if input_str[start] != input_str[end]:\n",
    "        return False\n",
    "\n",
    "    if start < end + 1:\n",
    "        return isPalindromeRecursive(input_str, start + 1, end - 1)\n",
    "    return True\n"
   ]
  },
  {
   "cell_type": "code",
   "execution_count": 7,
   "metadata": {},
   "outputs": [
    {
     "data": {
      "text/plain": [
       "True"
      ]
     },
     "execution_count": 7,
     "metadata": {},
     "output_type": "execute_result"
    }
   ],
   "source": [
    "isPalindrome(\"aba\")\n"
   ]
  }
 ],
 "metadata": {
  "interpreter": {
   "hash": "aee8b7b246df8f9039afb4144a1f6fd8d2ca17a180786b69acc140d282b71a49"
  },
  "kernelspec": {
   "display_name": "Python 3.10.0 64-bit",
   "language": "python",
   "name": "python3"
  },
  "language_info": {
   "codemirror_mode": {
    "name": "ipython",
    "version": 3
   },
   "file_extension": ".py",
   "mimetype": "text/x-python",
   "name": "python",
   "nbconvert_exporter": "python",
   "pygments_lexer": "ipython3",
   "version": "3.10.0"
  },
  "orig_nbformat": 4
 },
 "nbformat": 4,
 "nbformat_minor": 2
}

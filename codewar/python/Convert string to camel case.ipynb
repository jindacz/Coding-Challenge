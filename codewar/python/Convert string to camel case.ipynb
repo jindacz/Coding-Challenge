{
 "cells": [
  {
   "cell_type": "code",
   "execution_count": 3,
   "metadata": {},
   "outputs": [
    {
     "data": {
      "text/plain": [
       "'he_Stealth_Warrior'"
      ]
     },
     "execution_count": 3,
     "metadata": {},
     "output_type": "execute_result"
    }
   ],
   "source": [
    "# Complete the method/function so that it converts dash/underscore delimited words into camel casing. The first word within the output should be capitalized only if the original word was capitalized (known as Upper Camel Case, also often referred to as Pascal case).\n",
    "\n",
    "# Examples\n",
    "# \"the-stealth-warrior\" gets converted to \"theStealthWarrior\"\n",
    "# \"The_Stealth_Warrior\" gets converted to \"TheStealthWarrior\"\n",
    "\n",
    "def to_camel_case(text):\n",
    "    \n",
    "    if len(text)==0:\n",
    "        return ''\n",
    "    return text[0]+text.title()[1:].replace('-','').replace('_','')\n",
    "    "
   ]
  },
  {
   "cell_type": "code",
   "execution_count": null,
   "metadata": {},
   "outputs": [],
   "source": [
    "# understand the solution\n",
    "text=\"the_stealth_warrior\"\n",
    "text[:1]\n",
    "text.title()[1:]"
   ]
  }
 ],
 "metadata": {
  "interpreter": {
   "hash": "aee8b7b246df8f9039afb4144a1f6fd8d2ca17a180786b69acc140d282b71a49"
  },
  "kernelspec": {
   "display_name": "Python 3.10.0 64-bit",
   "language": "python",
   "name": "python3"
  },
  "language_info": {
   "codemirror_mode": {
    "name": "ipython",
    "version": 3
   },
   "file_extension": ".py",
   "mimetype": "text/x-python",
   "name": "python",
   "nbconvert_exporter": "python",
   "pygments_lexer": "ipython3",
   "version": "3.10.0"
  },
  "orig_nbformat": 4
 },
 "nbformat": 4,
 "nbformat_minor": 2
}

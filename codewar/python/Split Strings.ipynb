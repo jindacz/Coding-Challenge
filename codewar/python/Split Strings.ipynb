{
 "cells": [
  {
   "cell_type": "markdown",
   "metadata": {},
   "source": [
    "# 6 kyu\n",
    "# Split Strings\n",
    "# 108228989% of 7,04825,520 of 76,691jhoffner1 Issue Reported\n",
    "#  Python\n",
    "# 3.8\n",
    "# VIM\n",
    "# EMACS\n",
    "# Instructions\n",
    "# Output\n",
    "# Complete the solution so that it splits the string into pairs of two characters. If the string contains an odd number of characters then it should replace the missing second character of the final pair with an underscore ('_').\n",
    "\n",
    "# Examples:\n",
    "\n",
    "# * 'abc' =>  ['ab', 'c_']\n",
    "# * 'abcdef' => ['ab', 'cd', 'ef']"
   ]
  },
  {
   "cell_type": "code",
   "execution_count": null,
   "metadata": {},
   "outputs": [],
   "source": []
  },
  {
   "cell_type": "code",
   "execution_count": 19,
   "metadata": {},
   "outputs": [],
   "source": [
    "s=\"asdfadsf\"\n",
    "res=[]\n",
    "char=[i for i in s]\n",
    "# if not s: return \"\"\n",
    "for i in range(0,len(char)-2,2):\n",
    "    res.append(f\"{char[i]}{char[i+1]}\")\n",
    "if len(char)%2==0:\n",
    "    res.append(f\"{char[-2]}{char[-1]}\")\n",
    "else:\n",
    "    res.append(f\"{char[-1]}_\")\n",
    "    "
   ]
  },
  {
   "cell_type": "code",
   "execution_count": null,
   "metadata": {},
   "outputs": [],
   "source": []
  }
 ],
 "metadata": {
  "interpreter": {
   "hash": "aee8b7b246df8f9039afb4144a1f6fd8d2ca17a180786b69acc140d282b71a49"
  },
  "kernelspec": {
   "display_name": "Python 3.10.0 64-bit",
   "language": "python",
   "name": "python3"
  },
  "language_info": {
   "codemirror_mode": {
    "name": "ipython",
    "version": 3
   },
   "file_extension": ".py",
   "mimetype": "text/x-python",
   "name": "python",
   "nbconvert_exporter": "python",
   "pygments_lexer": "ipython3",
   "version": "3.10.0"
  },
  "orig_nbformat": 4
 },
 "nbformat": 4,
 "nbformat_minor": 2
}

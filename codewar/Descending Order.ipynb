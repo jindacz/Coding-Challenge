{
 "cells": [
  {
   "cell_type": "code",
   "execution_count": 2,
   "metadata": {},
   "outputs": [
    {
     "ename": "TypeError",
     "evalue": "'type' object is not subscriptable",
     "output_type": "error",
     "traceback": [
      "\u001b[0;31m---------------------------------------------------------------------------\u001b[0m",
      "\u001b[0;31mTypeError\u001b[0m                                 Traceback (most recent call last)",
      "\u001b[1;32m/Users/kurisuuu/Documents/GitHub/Coding-Challenge/codewar/Descending Order.ipynb Cell 1'\u001b[0m in \u001b[0;36m<cell line: 3>\u001b[0;34m()\u001b[0m\n\u001b[1;32m      <a href='vscode-notebook-cell:/Users/kurisuuu/Documents/GitHub/Coding-Challenge/codewar/Descending%20Order.ipynb#ch0000000?line=0'>1</a>\u001b[0m num\u001b[39m=\u001b[39m\u001b[39m123456789\u001b[39m\n\u001b[1;32m      <a href='vscode-notebook-cell:/Users/kurisuuu/Documents/GitHub/Coding-Challenge/codewar/Descending%20Order.ipynb#ch0000000?line=1'>2</a>\u001b[0m dig\u001b[39m=\u001b[39m\u001b[39msorted\u001b[39m([\u001b[39mint\u001b[39m(i) \u001b[39mfor\u001b[39;00m i \u001b[39min\u001b[39;00m \u001b[39mstr\u001b[39m(num)],reverse\u001b[39m=\u001b[39m\u001b[39mTrue\u001b[39;00m)\n\u001b[0;32m----> <a href='vscode-notebook-cell:/Users/kurisuuu/Documents/GitHub/Coding-Challenge/codewar/Descending%20Order.ipynb#ch0000000?line=2'>3</a>\u001b[0m \u001b[39mprint\u001b[39m(\u001b[39m'\u001b[39;49m\u001b[39m'\u001b[39;49m\u001b[39m.\u001b[39;49mjoin(\u001b[39mstr\u001b[39;49m[i] \u001b[39mfor\u001b[39;49;00m i \u001b[39min\u001b[39;49;00m dig))\n",
      "\u001b[1;32m/Users/kurisuuu/Documents/GitHub/Coding-Challenge/codewar/Descending Order.ipynb Cell 1'\u001b[0m in \u001b[0;36m<genexpr>\u001b[0;34m(.0)\u001b[0m\n\u001b[1;32m      <a href='vscode-notebook-cell:/Users/kurisuuu/Documents/GitHub/Coding-Challenge/codewar/Descending%20Order.ipynb#ch0000000?line=0'>1</a>\u001b[0m num\u001b[39m=\u001b[39m\u001b[39m123456789\u001b[39m\n\u001b[1;32m      <a href='vscode-notebook-cell:/Users/kurisuuu/Documents/GitHub/Coding-Challenge/codewar/Descending%20Order.ipynb#ch0000000?line=1'>2</a>\u001b[0m dig\u001b[39m=\u001b[39m\u001b[39msorted\u001b[39m([\u001b[39mint\u001b[39m(i) \u001b[39mfor\u001b[39;00m i \u001b[39min\u001b[39;00m \u001b[39mstr\u001b[39m(num)],reverse\u001b[39m=\u001b[39m\u001b[39mTrue\u001b[39;00m)\n\u001b[0;32m----> <a href='vscode-notebook-cell:/Users/kurisuuu/Documents/GitHub/Coding-Challenge/codewar/Descending%20Order.ipynb#ch0000000?line=2'>3</a>\u001b[0m \u001b[39mprint\u001b[39m(\u001b[39m'\u001b[39m\u001b[39m'\u001b[39m\u001b[39m.\u001b[39mjoin(\u001b[39mstr\u001b[39;49m[i] \u001b[39mfor\u001b[39;00m i \u001b[39min\u001b[39;00m dig))\n",
      "\u001b[0;31mTypeError\u001b[0m: 'type' object is not subscriptable"
     ]
    }
   ],
   "source": [
    "num=123456789\n",
    "dig=sorted([int(i) for i in str(num)],reverse=True)\n",
    "print(''.join(str[i] for i in dig))"
   ]
  }
 ],
 "metadata": {
  "interpreter": {
   "hash": "b114c4ac67f6105e5dba174abcb08ee3deb0098bf2da741068dbd814f6f6bec0"
  },
  "kernelspec": {
   "display_name": "Python 3.7.10 ('r-reticulate')",
   "language": "python",
   "name": "python3"
  },
  "language_info": {
   "codemirror_mode": {
    "name": "ipython",
    "version": 3
   },
   "file_extension": ".py",
   "mimetype": "text/x-python",
   "name": "python",
   "nbconvert_exporter": "python",
   "pygments_lexer": "ipython3",
   "version": "3.10.0"
  },
  "orig_nbformat": 4
 },
 "nbformat": 4,
 "nbformat_minor": 2
}

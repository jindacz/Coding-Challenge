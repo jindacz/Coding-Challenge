{
 "cells": [
  {
   "cell_type": "markdown",
   "metadata": {},
   "source": [
    "Given a string s, find the length of the longest substring without repeating characters.\n",
    "\n",
    " \n",
    "\n",
    "Example 1:\n",
    "\n",
    "Input: s = \"abcabcbb\"\n",
    "Output: 3\n",
    "Explanation: The answer is \"abc\", with the length of 3.\n",
    "Example 2:\n",
    "\n",
    "Input: s = \"bbbbb\"\n",
    "Output: 1\n",
    "Explanation: The answer is \"b\", with the length of 1.\n",
    "Example 3:\n",
    "\n",
    "Input: s = \"pwwkew\"\n",
    "Output: 3\n",
    "Explanation: The answer is \"wke\", with the length of 3.\n",
    "Notice that the answer must be a substring, \"pwke\" is a subsequence and not a substring."
   ]
  },
  {
   "cell_type": "code",
   "execution_count": 6,
   "metadata": {},
   "outputs": [
    {
     "ename": "IndentationError",
     "evalue": "unindent does not match any outer indentation level (<tokenize>, line 27)",
     "output_type": "error",
     "traceback": [
      "\u001b[0;36m  File \u001b[0;32m<tokenize>:27\u001b[0;36m\u001b[0m\n\u001b[0;31m    return max_len\u001b[0m\n\u001b[0m    ^\u001b[0m\n\u001b[0;31mIndentationError\u001b[0m\u001b[0;31m:\u001b[0m unindent does not match any outer indentation level\n"
     ]
    }
   ],
   "source": [
    "class Solution:\n",
    "    def lengthOfLongestSubstring(s: str) -> int:\n",
    "        # Step 1: 定义需要维护的变量, 本题求最大长度，所以需要定义max_len, 该题又涉及去重，因此还需要一个哈希表\n",
    "        max_len, hashmap = 0, {}\n",
    "\n",
    "        # Step 2: 定义窗口的首尾端 (start, end)， 然后滑动窗口\n",
    "        start = 0\n",
    "        for end in range(len(s)):\n",
    "            # Step 3\n",
    "            # 更新需要维护的变量 (max_len, hashmap)\n",
    "            # i.e. 把窗口末端元素加入哈希表，使其频率加1，并且更新最大长度\n",
    "            hashmap[s[end]] = hashmap.get(s[end], 0) + 1\n",
    "            if len(hashmap) == end - start + 1:\n",
    "                max_len = max(max_len, end - start + 1)\n",
    "            \n",
    "            # Step 4: \n",
    "            # 根据题意,  题目的窗口长度可变: 这个时候一般涉及到窗口是否合法的问题\n",
    "            # 这时要用一个while去不断移动窗口左指针, 从而剔除非法元素直到窗口再次合法\n",
    "            # 当窗口长度大于哈希表长度时候 (说明存在重复元素)，窗口不合法\n",
    "            # 所以需要不断移动窗口左指针直到窗口再次合法, 同时提前更新需要维护的变量 (hashmap)\n",
    "            while end - start + 1 > len(hashmap):\n",
    "                head = s[start]\n",
    "                hashmap[head] -= 1\n",
    "                if hashmap[head] == 0:\n",
    "                    del hashmap[head]\n",
    "                start += 1\n",
    "        # Step 5: 返回答案 (最大长度)\n",
    "        return max_len\n",
    "\n",
    "\n",
    "\n",
    "print(lengthOfLongestSubstring(\"pwwkew\"))\n",
    "print(lengthOfLongestSubstring(\"abcabcbb\"))    "
   ]
  },
  {
   "cell_type": "code",
   "execution_count": 11,
   "metadata": {},
   "outputs": [
    {
     "name": "stdout",
     "output_type": "stream",
     "text": [
      "5\n",
      "3\n",
      "3\n"
     ]
    }
   ],
   "source": []
  },
  {
   "cell_type": "markdown",
   "metadata": {},
   "source": [
    "https://pythontutor.com/composingprograms.html#code=def%20lengthOfLongestSubstring%28s%3A%20str%29%20-%3E%20int%3A%0A%20%20%20%20if%20len%28s%29%20%3D%3D%200%3A%0A%20%20%20%20%20%20%20%20return%200%0A%20%20%20%20seen%20%3D%20%7B%20%7D%0A%20%20%20%20currlen%20%3D%200%0A%20%20%20%20maxlen%20%3D%200%0A%20%20%20%20for%20index,%20letter%20in%20enumerate%28s%29%3A%0A%20%20%20%20%20%20%20%20if%20letter%20in%20seen%20and%20seen%5Bletter%5D%20%3E%3D%20index%20-%20currlen%3A%0A%20%20%20%20%20%20%20%20%20%20%20%20currlen%20%3D%20index%20-%20seen%5Bletter%5D%0A%20%20%20%20%20%20%20%20%20%20%20%20seen%5Bletter%5D%20%3D%20index%0A%20%20%20%20%20%20%20%20else%3A%20%23%20letter%20is%20not%20yet%20in%20the%20dictionary%0A%20%20%20%20%20%20%20%20%20%20%20%20seen%5Bletter%5D%20%3D%20index%0A%20%20%20%20%20%20%20%20%20%20%20%20currlen%20%2B%3D%201%0A%20%20%20%20%20%20%20%20%23%20print%28%22Letter%3A%22,%20letter,%20%22currlen%3A%22,%20currlen%29%0A%20%20%20%20%20%20%20%20maxlen%20%3D%20max%28maxlen,%20currlen%29%0A%20%20%20%20return%20maxlen%20%20%20%0A%20%20%20%20%0Aprint%28lengthOfLongestSubstring%28%22tmmzuxt%22%29%29%0Aprint%28lengthOfLongestSubstring%28%22pwwkew%22%29%29%0Aprint%28lengthOfLongestSubstring%28%22abcabcbb%22%29%29%20%20%20%20%20%20&cumulative=true&curInstr=7&mode=display&origin=composingprograms.js&py=3&rawInputLstJSON=%5B%5D"
   ]
  }
 ],
 "metadata": {
  "kernelspec": {
   "display_name": "Python 3.10.0 64-bit",
   "language": "python",
   "name": "python3"
  },
  "language_info": {
   "codemirror_mode": {
    "name": "ipython",
    "version": 3
   },
   "file_extension": ".py",
   "mimetype": "text/x-python",
   "name": "python",
   "nbconvert_exporter": "python",
   "pygments_lexer": "ipython3",
   "version": "3.10.0"
  },
  "orig_nbformat": 4,
  "vscode": {
   "interpreter": {
    "hash": "aee8b7b246df8f9039afb4144a1f6fd8d2ca17a180786b69acc140d282b71a49"
   }
  }
 },
 "nbformat": 4,
 "nbformat_minor": 2
}

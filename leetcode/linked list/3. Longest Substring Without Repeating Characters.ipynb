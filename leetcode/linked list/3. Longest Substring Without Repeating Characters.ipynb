{
 "cells": [
  {
   "cell_type": "markdown",
   "metadata": {},
   "source": [
    "Given a string s, find the length of the longest substring without repeating characters.\n",
    "\n",
    " \n",
    "\n",
    "Example 1:\n",
    "\n",
    "Input: s = \"abcabcbb\"\n",
    "Output: 3\n",
    "Explanation: The answer is \"abc\", with the length of 3.\n",
    "Example 2:\n",
    "\n",
    "Input: s = \"bbbbb\"\n",
    "Output: 1\n",
    "Explanation: The answer is \"b\", with the length of 1.\n",
    "Example 3:\n",
    "\n",
    "Input: s = \"pwwkew\"\n",
    "Output: 3\n",
    "Explanation: The answer is \"wke\", with the length of 3.\n",
    "Notice that the answer must be a substring, \"pwke\" is a subsequence and not a substring."
   ]
  },
  {
   "cell_type": "code",
   "execution_count": 10,
   "metadata": {},
   "outputs": [],
   "source": [
    "def lengthOfLongestSubstring(s: str) -> int:\n",
    "    if len(s) == 0:\n",
    "        return 0\n",
    "    seen = { }\n",
    "    currlen = 0\n",
    "    maxlen = 0\n",
    "    for index, letter in enumerate(s):\n",
    "        if letter in seen and seen[letter] >= index - currlen:\n",
    "            currlen = index - seen[letter]\n",
    "            seen[letter] = index\n",
    "        else: # letter is not yet in the dictionary\n",
    "            seen[letter] = index\n",
    "            currlen += 1\n",
    "        # print(\"Letter:\", letter, \"currlen:\", currlen)\n",
    "        maxlen = max(maxlen, currlen)\n",
    "    return maxlen   \n",
    "\n",
    "print(lengthOfLongestSubstring(\"pwwkew\"))\n",
    "print(lengthOfLongestSubstring(\"abcabcbb\"))    "
   ]
  },
  {
   "cell_type": "code",
   "execution_count": 11,
   "metadata": {},
   "outputs": [
    {
     "name": "stdout",
     "output_type": "stream",
     "text": [
      "5\n",
      "3\n",
      "3\n"
     ]
    }
   ],
   "source": [
    "  "
   ]
  },
  {
   "cell_type": "markdown",
   "metadata": {},
   "source": [
    "https://pythontutor.com/composingprograms.html#code=def%20lengthOfLongestSubstring%28s%3A%20str%29%20-%3E%20int%3A%0A%20%20%20%20if%20len%28s%29%20%3D%3D%200%3A%0A%20%20%20%20%20%20%20%20return%200%0A%20%20%20%20seen%20%3D%20%7B%20%7D%0A%20%20%20%20currlen%20%3D%200%0A%20%20%20%20maxlen%20%3D%200%0A%20%20%20%20for%20index,%20letter%20in%20enumerate%28s%29%3A%0A%20%20%20%20%20%20%20%20if%20letter%20in%20seen%20and%20seen%5Bletter%5D%20%3E%3D%20index%20-%20currlen%3A%0A%20%20%20%20%20%20%20%20%20%20%20%20currlen%20%3D%20index%20-%20seen%5Bletter%5D%0A%20%20%20%20%20%20%20%20%20%20%20%20seen%5Bletter%5D%20%3D%20index%0A%20%20%20%20%20%20%20%20else%3A%20%23%20letter%20is%20not%20yet%20in%20the%20dictionary%0A%20%20%20%20%20%20%20%20%20%20%20%20seen%5Bletter%5D%20%3D%20index%0A%20%20%20%20%20%20%20%20%20%20%20%20currlen%20%2B%3D%201%0A%20%20%20%20%20%20%20%20%23%20print%28%22Letter%3A%22,%20letter,%20%22currlen%3A%22,%20currlen%29%0A%20%20%20%20%20%20%20%20maxlen%20%3D%20max%28maxlen,%20currlen%29%0A%20%20%20%20return%20maxlen%20%20%20%0A%20%20%20%20%0Aprint%28lengthOfLongestSubstring%28%22tmmzuxt%22%29%29%0Aprint%28lengthOfLongestSubstring%28%22pwwkew%22%29%29%0Aprint%28lengthOfLongestSubstring%28%22abcabcbb%22%29%29%20%20%20%20%20%20&cumulative=true&curInstr=7&mode=display&origin=composingprograms.js&py=3&rawInputLstJSON=%5B%5D"
   ]
  }
 ],
 "metadata": {
  "kernelspec": {
   "display_name": "Python 3.10.0 64-bit",
   "language": "python",
   "name": "python3"
  },
  "language_info": {
   "codemirror_mode": {
    "name": "ipython",
    "version": 3
   },
   "file_extension": ".py",
   "mimetype": "text/x-python",
   "name": "python",
   "nbconvert_exporter": "python",
   "pygments_lexer": "ipython3",
   "version": "3.10.0"
  },
  "orig_nbformat": 4,
  "vscode": {
   "interpreter": {
    "hash": "aee8b7b246df8f9039afb4144a1f6fd8d2ca17a180786b69acc140d282b71a49"
   }
  }
 },
 "nbformat": 4,
 "nbformat_minor": 2
}

{
 "cells": [
  {
   "cell_type": "code",
   "execution_count": 8,
   "metadata": {},
   "outputs": [],
   "source": [
    "# 61. Rotate List\n",
    "# Given the head of a linked list, rotate the list to the right by k places.\n",
    "\n",
    "\n",
    "# Definition for singly-linked list.\n",
    "class ListNode(object):\n",
    "    def __init__(self, val=0, next=None):\n",
    "        self.val = val\n",
    "        self.next = next\n",
    "\n",
    "def rotateRight(head, k):\n",
    "    if not head or k == 0: \n",
    "        return head\n",
    "    # Compute the length of the list\n",
    "    length = 1\n",
    "    counter = head\n",
    "    while counter.next:\n",
    "        length += 1\n",
    "        counter = counter.next\n",
    "     \n",
    "    counter.next = head # Make list circular\n",
    "    \n",
    "    k = k % length\n",
    "    \n",
    "    newEnd = head\n",
    "    for _ in range(length - k - 1):\n",
    "        newEnd = newEnd.next\n",
    "    newHead = newEnd.next\n",
    "    newEnd.next = None\n",
    "    \n",
    "    return newHead"
   ]
  },
  {
   "cell_type": "code",
   "execution_count": 9,
   "metadata": {},
   "outputs": [],
   "source": [
    "node1 = ListNode(1)\n",
    "node2 = ListNode(2)\n",
    "node3 = ListNode(3)\n",
    "node4 = ListNode(4)\n",
    "node5 = ListNode(5)\n",
    "node1.next = node2\n",
    "node2.next = node3\n",
    "node3.next = node4\n",
    "node4.next = node5\n",
    "\n",
    "head = rotateRight(node1, 2)"
   ]
  },
  {
   "cell_type": "code",
   "execution_count": 10,
   "metadata": {},
   "outputs": [
    {
     "name": "stdout",
     "output_type": "stream",
     "text": [
      "4—>5—>1—>2—>3—>None\n"
     ]
    }
   ],
   "source": [
    "def printList(head):\n",
    "    ptr = head\n",
    "    while ptr:\n",
    "        print(ptr.val, end=\"—>\")\n",
    "        ptr = ptr.next\n",
    "    print('None')\n",
    "\n",
    "printList(head)"
   ]
  }
 ],
 "metadata": {
  "kernelspec": {
   "display_name": "Python 3.10.0 64-bit",
   "language": "python",
   "name": "python3"
  },
  "language_info": {
   "codemirror_mode": {
    "name": "ipython",
    "version": 3
   },
   "file_extension": ".py",
   "mimetype": "text/x-python",
   "name": "python",
   "nbconvert_exporter": "python",
   "pygments_lexer": "ipython3",
   "version": "3.10.0"
  },
  "orig_nbformat": 4,
  "vscode": {
   "interpreter": {
    "hash": "aee8b7b246df8f9039afb4144a1f6fd8d2ca17a180786b69acc140d282b71a49"
   }
  }
 },
 "nbformat": 4,
 "nbformat_minor": 2
}

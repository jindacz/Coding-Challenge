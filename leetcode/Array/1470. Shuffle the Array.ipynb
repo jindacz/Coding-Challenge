{
 "cells": [
  {
   "cell_type": "code",
   "execution_count": 1,
   "metadata": {},
   "outputs": [],
   "source": [
    "# Given the array nums consisting of 2n elements in the form [x1,x2,...,xn,y1,y2,...,yn].\n",
    "\n",
    "# Return the array in the form [x1,y1,x2,y2,...,xn,yn].\n",
    "\n"
   ]
  },
  {
   "cell_type": "code",
   "execution_count": null,
   "metadata": {},
   "outputs": [],
   "source": [
    "def shuffle(nums, n):\n",
    "    lst1 = []\n",
    "    lst2 = []\n",
    "    res = []\n",
    "    for i in range(len(nums)//2):\n",
    "        lst1.append(nums[i])\n",
    "    for i in range(len(nums)//2, len(nums)):\n",
    "        lst2.append(nums[i])\n",
    "    for i in range(len(lst1)):\n",
    "        res.append(lst1[i])\n",
    "        res.append(lst2[i])\n",
    "    return res"
   ]
  }
 ],
 "metadata": {
  "kernelspec": {
   "display_name": "Python 3.8.3 ('base')",
   "language": "python",
   "name": "python3"
  },
  "language_info": {
   "codemirror_mode": {
    "name": "ipython",
    "version": 3
   },
   "file_extension": ".py",
   "mimetype": "text/x-python",
   "name": "python",
   "nbconvert_exporter": "python",
   "pygments_lexer": "ipython3",
   "version": "3.8.3"
  },
  "orig_nbformat": 4,
  "vscode": {
   "interpreter": {
    "hash": "01ffbd6f59ec58c216bb1ed56aeb108b01c9870bbb1d227aaa202e2e552bdab7"
   }
  }
 },
 "nbformat": 4,
 "nbformat_minor": 2
}

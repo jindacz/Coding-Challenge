{
 "cells": [
  {
   "cell_type": "markdown",
   "metadata": {},
   "source": [
    "Write an algorithm to determine if a number n is happy.\n",
    "\n",
    "A happy number is a number defined by the following process:\n",
    "\n",
    "Starting with any positive integer, replace the number by the sum of the squares of its digits.\n",
    "Repeat the process until the number equals 1 (where it will stay), or it loops endlessly in a cycle which does not include 1.\n",
    "Those numbers for which this process ends in 1 are happy.\n",
    "Return true if n is a happy number, and false if not.\n",
    "\n"
   ]
  },
  {
   "cell_type": "code",
   "execution_count": 23,
   "metadata": {},
   "outputs": [],
   "source": [
    "class Solution(object):\n",
    "    def isHappy(self, n):\n",
    "            \"\"\"\n",
    "            :type n: int\n",
    "            :rtype: bool\n",
    "            Example: \n",
    "            Input: n = 19\n",
    "            Output: true\n",
    "            Explanation:\n",
    "            12 + 92 = 82\n",
    "            82 + 22 = 68\n",
    "            62 + 82 = 100\n",
    "            12 + 02 + 02 = 1\n",
    "            \n",
    "            P: 1. if one digit, not 1, return false\n",
    "            2. loop over the digit, until it gets one\n",
    "            \"\"\"\n",
    "          \n",
    "            count = 0\n",
    "            while n != 1:\n",
    "                n = sum(int(d)**2 for d in str(n))\n",
    "                \n",
    "                count += 1\n",
    "                if count > 100000:\n",
    "                    return False\n",
    "                    break\n",
    "            return True\n",
    "                "
   ]
  },
  {
   "cell_type": "code",
   "execution_count": 27,
   "metadata": {},
   "outputs": [
    {
     "data": {
      "text/plain": [
       "False"
      ]
     },
     "execution_count": 27,
     "metadata": {},
     "output_type": "execute_result"
    }
   ],
   "source": [
    "isHappy(19)\n",
    "isHappy(2)\n",
    "isHappy(7)"
   ]
  }
 ],
 "metadata": {
  "kernelspec": {
   "display_name": "Python 3.10.0 64-bit",
   "language": "python",
   "name": "python3"
  },
  "language_info": {
   "codemirror_mode": {
    "name": "ipython",
    "version": 3
   },
   "file_extension": ".py",
   "mimetype": "text/x-python",
   "name": "python",
   "nbconvert_exporter": "python",
   "pygments_lexer": "ipython3",
   "version": "3.10.0"
  },
  "orig_nbformat": 4,
  "vscode": {
   "interpreter": {
    "hash": "aee8b7b246df8f9039afb4144a1f6fd8d2ca17a180786b69acc140d282b71a49"
   }
  }
 },
 "nbformat": 4,
 "nbformat_minor": 2
}
